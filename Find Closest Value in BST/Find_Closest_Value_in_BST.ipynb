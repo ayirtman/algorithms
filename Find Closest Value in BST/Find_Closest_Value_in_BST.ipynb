{
 "cells": [
  {
   "cell_type": "code",
   "execution_count": null,
   "metadata": {},
   "outputs": [],
   "source": [
    "#findClosestValueInBst function takes BST and a target integer value\n",
    "# and returns the closest value to raeget value contained in the BST\n",
    "\n",
    "def findClosestValueInBst(tree, target):\n",
    "    return findClosestValueInBstHelper(tree,target,float(\"inf\"))\n",
    "\n",
    "def findClosestValueInBstHelper(tree,target,closest):\n",
    "    if tree is None:\n",
    "        return closest\n",
    "    if abs(target - closest) > abs(target - tree.value):\n",
    "        closest = tree.value\n",
    "    if target < tree.value:\n",
    "        return findClosestValueInBstHelper(tree.left,target,closest)\n",
    "    elif target > tree.value:\n",
    "        return findClosestValueInBstHelper(tree.right,target,closest)\n",
    "    else:\n",
    "        return closest"
   ]
  }
 ],
 "metadata": {
  "kernelspec": {
   "display_name": "Python 3",
   "language": "python",
   "name": "python3"
  },
  "language_info": {
   "codemirror_mode": {
    "name": "ipython",
    "version": 3
   },
   "file_extension": ".py",
   "mimetype": "text/x-python",
   "name": "python",
   "nbconvert_exporter": "python",
   "pygments_lexer": "ipython3",
   "version": "3.8.5"
  }
 },
 "nbformat": 4,
 "nbformat_minor": 4
}
