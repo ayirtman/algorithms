{
 "cells": [
  {
   "cell_type": "code",
   "execution_count": null,
   "metadata": {},
   "outputs": [],
   "source": [
    "#This function moves all instances of that integer in the array to the \n",
    "#end of the array and returns the array\n",
    "\n",
    "def moveElementToEnd(array, toMove):\n",
    "    i = 0\n",
    "    j = len(array)-1\n",
    "    while i < j:\n",
    "        while i < j and array[j] == toMove:\n",
    "            j -= 1\n",
    "        if array[i] == toMove:\n",
    "            array[i], array[j] = array[j], array[i]\n",
    "        i += 1\n",
    "    return array"
   ]
  }
 ],
 "metadata": {
  "kernelspec": {
   "display_name": "Python 3",
   "language": "python",
   "name": "python3"
  },
  "language_info": {
   "codemirror_mode": {
    "name": "ipython",
    "version": 3
   },
   "file_extension": ".py",
   "mimetype": "text/x-python",
   "name": "python",
   "nbconvert_exporter": "python",
   "pygments_lexer": "ipython3",
   "version": "3.8.5"
  }
 },
 "nbformat": 4,
 "nbformat_minor": 4
}
