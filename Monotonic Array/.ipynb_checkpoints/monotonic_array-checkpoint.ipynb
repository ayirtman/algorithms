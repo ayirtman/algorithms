{
 "cells": [
  {
   "cell_type": "code",
   "execution_count": null,
   "metadata": {},
   "outputs": [],
   "source": [
    "#This funciton takes in an array of integers and returns a boolean\n",
    "#representing whether the array is monotic\n",
    "\n",
    "def isMonotonic(array):\n",
    "    if len(array) <= 2:\n",
    "        return True\n",
    "    \n",
    "    direction = array[1]-array[0]\n",
    "    for i in range(2,len(array)):\n",
    "        if direction == 0:\n",
    "            direction = array[i] - array[i-1]\n",
    "            continue\n",
    "        if breaksDirection(direction,array[i-1],array[i]):\n",
    "            return False\n",
    "\n",
    "    return True\n",
    "\n",
    "def breaksDirection(direction,prevInd,currentInd):\n",
    "    difference = currentInd - prevInd\n",
    "    if direction > 0:\n",
    "        return difference < 0\n",
    "    return difference > 0"
   ]
  }
 ],
 "metadata": {
  "kernelspec": {
   "display_name": "Python 3",
   "language": "python",
   "name": "python3"
  },
  "language_info": {
   "codemirror_mode": {
    "name": "ipython",
    "version": 3
   },
   "file_extension": ".py",
   "mimetype": "text/x-python",
   "name": "python",
   "nbconvert_exporter": "python",
   "pygments_lexer": "ipython3",
   "version": "3.8.5"
  }
 },
 "nbformat": 4,
 "nbformat_minor": 4
}
