{
 "cells": [
  {
   "cell_type": "code",
   "execution_count": 22,
   "metadata": {},
   "outputs": [],
   "source": [
    "#First Duplicate Value\n",
    "\n",
    "def firstDuplicateValue(array):\n",
    "    minimumIndex = len(array)\n",
    "    for i in range(len(array)-1):\n",
    "        firstNumber = array[i]\n",
    "        for j in range(i+1,len(array)):\n",
    "            secondNumber = array[j]\n",
    "            if firstNumber == secondNumber:\n",
    "                minimumIndex = min(minimumIndex,j)\n",
    "                \n",
    "    if minimumIndex == len(array):\n",
    "        return -1\n",
    "    \n",
    "    return array[minimumIndex]"
   ]
  },
  {
   "cell_type": "code",
   "execution_count": 23,
   "metadata": {},
   "outputs": [],
   "source": [
    "array = [2, 1, 5, 2, 3, 3, 4]"
   ]
  },
  {
   "cell_type": "code",
   "execution_count": 24,
   "metadata": {},
   "outputs": [
    {
     "data": {
      "text/plain": [
       "2"
      ]
     },
     "execution_count": 24,
     "metadata": {},
     "output_type": "execute_result"
    }
   ],
   "source": [
    "firstDuplicateValue(array)"
   ]
  },
  {
   "cell_type": "code",
   "execution_count": null,
   "metadata": {},
   "outputs": [],
   "source": []
  }
 ],
 "metadata": {
  "kernelspec": {
   "display_name": "Python 3",
   "language": "python",
   "name": "python3"
  },
  "language_info": {
   "codemirror_mode": {
    "name": "ipython",
    "version": 3
   },
   "file_extension": ".py",
   "mimetype": "text/x-python",
   "name": "python",
   "nbconvert_exporter": "python",
   "pygments_lexer": "ipython3",
   "version": "3.8.5"
  }
 },
 "nbformat": 4,
 "nbformat_minor": 4
}
