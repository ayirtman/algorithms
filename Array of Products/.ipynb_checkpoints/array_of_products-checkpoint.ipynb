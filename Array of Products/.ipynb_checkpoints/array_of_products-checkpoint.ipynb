{
 "cells": [
  {
   "cell_type": "code",
   "execution_count": 20,
   "metadata": {},
   "outputs": [],
   "source": [
    "#This function takes a non-empty array of integers and returns an array of the same lenght\n",
    "#where each element in the output array is equal to teh product of every other\n",
    "# number in the input array\n",
    "\n",
    "def arrayOfProducts(array):\n",
    "    result = []\n",
    "    idx = 1\n",
    "    for i in range(len(array)):\n",
    "        for j in range(len(array)):\n",
    "            if i == j:\n",
    "                continue\n",
    "            idx *= array[j]\n",
    "        result.append(idx)\n",
    "        idx=1\n",
    "        \n",
    "    return result"
   ]
  },
  {
   "cell_type": "code",
   "execution_count": 21,
   "metadata": {},
   "outputs": [
    {
     "data": {
      "text/plain": [
       "[8, 40, 10, 20]"
      ]
     },
     "execution_count": 21,
     "metadata": {},
     "output_type": "execute_result"
    }
   ],
   "source": [
    "#Example\n",
    "exampleArray = [5, 1, 4, 2]\n",
    "arrayOfProducts(exampleArray)"
   ]
  },
  {
   "cell_type": "code",
   "execution_count": null,
   "metadata": {},
   "outputs": [],
   "source": []
  }
 ],
 "metadata": {
  "kernelspec": {
   "display_name": "Python 3",
   "language": "python",
   "name": "python3"
  },
  "language_info": {
   "codemirror_mode": {
    "name": "ipython",
    "version": 3
   },
   "file_extension": ".py",
   "mimetype": "text/x-python",
   "name": "python",
   "nbconvert_exporter": "python",
   "pygments_lexer": "ipython3",
   "version": "3.8.5"
  }
 },
 "nbformat": 4,
 "nbformat_minor": 4
}
