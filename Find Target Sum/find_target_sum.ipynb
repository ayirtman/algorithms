{
 "cells": [
  {
   "cell_type": "code",
   "execution_count": 2,
   "metadata": {},
   "outputs": [],
   "source": [
    "# This algorithm represents finding the couple integer\n",
    "# which sums equals the given target number \n",
    "def twoNumberSum(array, targetSum):\n",
    "    for i in range(len(array)-1):\n",
    "        firstNum = array[i]\n",
    "        for j in range(i+1,len(array)):\n",
    "            secondNum = array[j]\n",
    "            if targetSum == firstNum + secondNum:\n",
    "                return [firstNum,secondNum]\n",
    "    return []"
   ]
  },
  {
   "cell_type": "code",
   "execution_count": null,
   "metadata": {},
   "outputs": [],
   "source": []
  }
 ],
 "metadata": {
  "kernelspec": {
   "display_name": "Python 3",
   "language": "python",
   "name": "python3"
  },
  "language_info": {
   "codemirror_mode": {
    "name": "ipython",
    "version": 3
   },
   "file_extension": ".py",
   "mimetype": "text/x-python",
   "name": "python",
   "nbconvert_exporter": "python",
   "pygments_lexer": "ipython3",
   "version": "3.8.5"
  }
 },
 "nbformat": 4,
 "nbformat_minor": 4
}
