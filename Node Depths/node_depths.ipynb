{
 "cells": [
  {
   "cell_type": "code",
   "execution_count": null,
   "metadata": {},
   "outputs": [],
   "source": [
    "#The distance between a node in a Binary Tree and the tree's root is \n",
    "# called the node depth\n",
    "#This function takes in a Binary Tree and returns the sum of its nodes's depths\n",
    "\n",
    "def nodeDepths(root, depth = 0):\n",
    "    if root is None:\n",
    "        return 0\n",
    "    return depth + nodeDepths(root.left,  depth + 1) + nodeDepths(root.right, depth + 1)"
   ]
  }
 ],
 "metadata": {
  "kernelspec": {
   "display_name": "Python 3",
   "language": "python",
   "name": "python3"
  },
  "language_info": {
   "codemirror_mode": {
    "name": "ipython",
    "version": 3
   },
   "file_extension": ".py",
   "mimetype": "text/x-python",
   "name": "python",
   "nbconvert_exporter": "python",
   "pygments_lexer": "ipython3",
   "version": "3.8.5"
  }
 },
 "nbformat": 4,
 "nbformat_minor": 4
}
