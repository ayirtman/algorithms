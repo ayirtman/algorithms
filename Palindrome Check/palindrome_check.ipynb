{
 "cells": [
  {
   "cell_type": "code",
   "execution_count": null,
   "metadata": {},
   "outputs": [],
   "source": [
    "#This function takes a non-empty string and that returns a boolean\n",
    "#representing whether the string is a palindrome\n",
    "\n",
    "def isPalindrome(string):\n",
    "    newString=\"\"\n",
    "    \n",
    "    for i in reversed(range(len(string))):\n",
    "        newString += string[i]\n",
    "    return newString == string"
   ]
  }
 ],
 "metadata": {
  "kernelspec": {
   "display_name": "Python 3",
   "language": "python",
   "name": "python3"
  },
  "language_info": {
   "codemirror_mode": {
    "name": "ipython",
    "version": 3
   },
   "file_extension": ".py",
   "mimetype": "text/x-python",
   "name": "python",
   "nbconvert_exporter": "python",
   "pygments_lexer": "ipython3",
   "version": "3.8.5"
  }
 },
 "nbformat": 4,
 "nbformat_minor": 4
}
