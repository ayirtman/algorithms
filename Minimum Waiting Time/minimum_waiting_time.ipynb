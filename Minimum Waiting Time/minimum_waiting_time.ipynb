{
 "cells": [
  {
   "cell_type": "code",
   "execution_count": 45,
   "metadata": {},
   "outputs": [],
   "source": [
    "#This function returns the minimum amount of total waiting time for all of\n",
    "#the queries. \n",
    "\n",
    "def minimumWaitingTime(queries):\n",
    "    queries.sort()\n",
    "    waitingTime = 0\n",
    "    for i in range(0,len(queries)-1):\n",
    "        waitingTime += queries[i] * (len(queries)-1-i)\n",
    "        \n",
    "    return waitingTime"
   ]
  },
  {
   "cell_type": "code",
   "execution_count": null,
   "metadata": {},
   "outputs": [],
   "source": []
  }
 ],
 "metadata": {
  "kernelspec": {
   "display_name": "Python 3",
   "language": "python",
   "name": "python3"
  },
  "language_info": {
   "codemirror_mode": {
    "name": "ipython",
    "version": 3
   },
   "file_extension": ".py",
   "mimetype": "text/x-python",
   "name": "python",
   "nbconvert_exporter": "python",
   "pygments_lexer": "ipython3",
   "version": "3.8.5"
  }
 },
 "nbformat": 4,
 "nbformat_minor": 4
}
