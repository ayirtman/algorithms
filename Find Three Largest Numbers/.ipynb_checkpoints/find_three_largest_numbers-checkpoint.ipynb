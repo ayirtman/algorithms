{
 "cells": [
  {
   "cell_type": "code",
   "execution_count": 1,
   "metadata": {},
   "outputs": [],
   "source": [
    "#This function takes in an array of at least three integers without sorting\n",
    "#array and returns a sorted array of the three largest integers in the \n",
    "#input array\n",
    "\n",
    "def findThreeLargestNumbers(array):\n",
    "    threeLargestNumbers = [None,None,None]\n",
    "    for number in array:\n",
    "        updateLargest(threeLargestNumbers, number)\n",
    "    return threeLargestNumbers\n",
    "\n",
    "def updateLargest(threeLargestNumbers, number):\n",
    "    if threeLargestNumbers[2] is None or number > threeLargestNumbers[2]:\n",
    "        arrangeNumbers(threeLargestNumbers,  number, 2)\n",
    "    elif threeLargestNumbers[1] is None or number > threeLargestNumbers[1]:\n",
    "        arrangeNumbers(threeLargestNumbers,  number, 1)\n",
    "    elif threeLargestNumbers[0] is None or number > threeLargestNumbers[0]:\n",
    "        arrangeNumbers(threeLargestNumbers,  number, 0)\n",
    "        \n",
    "def arrangeNumbers(array, number, line):\n",
    "    for i in range(line+1):\n",
    "        if i == line:\n",
    "            array[i] = number\n",
    "        else:\n",
    "            array[i] = array[i+1]\n"
   ]
  },
  {
   "cell_type": "code",
   "execution_count": 3,
   "metadata": {},
   "outputs": [
    {
     "data": {
      "text/plain": [
       "[18, 141, 541]"
      ]
     },
     "execution_count": 3,
     "metadata": {},
     "output_type": "execute_result"
    }
   ],
   "source": [
    "#Example \n",
    "array = [141, 1, 17, -7, -17, -27, 18, 541, 8, 7, 7]\n",
    "findThreeLargestNumbers(array)"
   ]
  },
  {
   "cell_type": "code",
   "execution_count": null,
   "metadata": {},
   "outputs": [],
   "source": []
  }
 ],
 "metadata": {
  "kernelspec": {
   "display_name": "Python 3",
   "language": "python",
   "name": "python3"
  },
  "language_info": {
   "codemirror_mode": {
    "name": "ipython",
    "version": 3
   },
   "file_extension": ".py",
   "mimetype": "text/x-python",
   "name": "python",
   "nbconvert_exporter": "python",
   "pygments_lexer": "ipython3",
   "version": "3.8.5"
  }
 },
 "nbformat": 4,
 "nbformat_minor": 4
}
