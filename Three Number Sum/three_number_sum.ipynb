{
 "cells": [
  {
   "cell_type": "code",
   "execution_count": null,
   "metadata": {},
   "outputs": [],
   "source": [
    "#Three Number Sum\n",
    "#And arrange the output to ascending order\n",
    "\n",
    "def threeNumberSum(array, targetSum):\n",
    "    array.sort()\n",
    "    targetArray = []\n",
    "    for i in range(len(array)-2):\n",
    "        for j in range(i+1,len(array)-1):\n",
    "            for k in range(j+1,len(array)):\n",
    "                if targetSum == array[i]+array[j]+array[k]:\n",
    "                    targetArray.append([array[i],array[j],array[k]])\n",
    "    return arrangeThreeSum(targetArray)\n",
    "\n",
    "def arrangeThreeSum(array):\n",
    "    for number in array:\n",
    "        if type(number) is list:\n",
    "            for i in range(len(number)-1):\n",
    "                if number[i] > number [i+1]:\n",
    "                    number[i],number[i+1] = number[i+1],number[i]\n",
    "    return array"
   ]
  }
 ],
 "metadata": {
  "kernelspec": {
   "display_name": "Python 3",
   "language": "python",
   "name": "python3"
  },
  "language_info": {
   "codemirror_mode": {
    "name": "ipython",
    "version": 3
   },
   "file_extension": ".py",
   "mimetype": "text/x-python",
   "name": "python",
   "nbconvert_exporter": "python",
   "pygments_lexer": "ipython3",
   "version": "3.8.5"
  }
 },
 "nbformat": 4,
 "nbformat_minor": 4
}
