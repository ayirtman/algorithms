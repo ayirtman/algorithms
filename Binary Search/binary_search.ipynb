{
 "cells": [
  {
   "cell_type": "code",
   "execution_count": null,
   "metadata": {},
   "outputs": [],
   "source": [
    "#Binary Search Algorithm\n",
    "\n",
    "def binarySearch(array, target):\n",
    "    return binarySearchHelper(array, target, 0, len(array)-1)\n",
    "\n",
    "def binarySearchHelper(array, target, left, right):\n",
    "    if left > right:\n",
    "        return -1\n",
    "    middle = (left + right) // 2\n",
    "    Ismatch = array[middle]\n",
    "\n",
    "    if target == Ismatch:\n",
    "        return middle\n",
    "    elif target < Ismatch:\n",
    "        return binarySearchHelper(array, target, left, middle - 1)\n",
    "    else:\n",
    "        return binarySearchHelper(array, target, middle + 1, right)"
   ]
  }
 ],
 "metadata": {
  "kernelspec": {
   "display_name": "Python 3",
   "language": "python",
   "name": "python3"
  },
  "language_info": {
   "codemirror_mode": {
    "name": "ipython",
    "version": 3
   },
   "file_extension": ".py",
   "mimetype": "text/x-python",
   "name": "python",
   "nbconvert_exporter": "python",
   "pygments_lexer": "ipython3",
   "version": "3.8.5"
  }
 },
 "nbformat": 4,
 "nbformat_minor": 4
}
