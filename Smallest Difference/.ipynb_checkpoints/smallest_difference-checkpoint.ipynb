{
 "cells": [
  {
   "cell_type": "code",
   "execution_count": null,
   "metadata": {},
   "outputs": [],
   "source": [
    "#This function takes in two non-empty arrays of integers,\n",
    "#finds the pair of numbers whose absolute difference is closest to zero\n",
    "#and returns an array of these two numbers\n",
    "\n",
    "def smallestDifference(arrayOne, arrayTwo):\n",
    "    arrayOne.sort()\n",
    "    arrayTwo.sort()\n",
    "    idOne = 0\n",
    "    idTwo = 0\n",
    "    closest = float(\"inf\")\n",
    "    current = float(\"inf\")\n",
    "    smallestPair = []\n",
    "    while idOne < len(arrayOne) and idTwo < len(arrayTwo):\n",
    "        firstNum = arrayOne[idOne]\n",
    "        secondNum = arrayTwo[idTwo]\n",
    "        if firstNum < secondNum:\n",
    "            current = secondNum - firstNum\n",
    "            idOne += 1\n",
    "        elif firstNum > secondNum:\n",
    "            current = firstNum - secondNum\n",
    "            idTwo += 1\n",
    "        else:\n",
    "            return [firstNum, secondNum]\n",
    "        if closest > current:\n",
    "            closest = current\n",
    "            smallestPair = [firstNum, secondNum]\n",
    "    return smallestPair"
   ]
  }
 ],
 "metadata": {
  "kernelspec": {
   "display_name": "Python 3",
   "language": "python",
   "name": "python3"
  },
  "language_info": {
   "codemirror_mode": {
    "name": "ipython",
    "version": 3
   },
   "file_extension": ".py",
   "mimetype": "text/x-python",
   "name": "python",
   "nbconvert_exporter": "python",
   "pygments_lexer": "ipython3",
   "version": "3.8.5"
  }
 },
 "nbformat": 4,
 "nbformat_minor": 4
}
