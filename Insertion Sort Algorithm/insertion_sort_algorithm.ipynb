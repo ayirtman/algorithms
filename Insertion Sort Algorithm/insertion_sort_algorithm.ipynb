{
 "cells": [
  {
   "cell_type": "code",
   "execution_count": null,
   "metadata": {},
   "outputs": [],
   "source": [
    "#Insertion Sort Algorithm\n",
    "\n",
    "def insertionSort(array):\n",
    "    for i in range(len(array)):\n",
    "        for j in range(1,len(array)-i):\n",
    "            if array[j] < array[j-1]:\n",
    "                array[j] , array[j-1] = array[j-1], array[j]\n",
    "    return array"
   ]
  }
 ],
 "metadata": {
  "kernelspec": {
   "display_name": "Python 3",
   "language": "python",
   "name": "python3"
  },
  "language_info": {
   "codemirror_mode": {
    "name": "ipython",
    "version": 3
   },
   "file_extension": ".py",
   "mimetype": "text/x-python",
   "name": "python",
   "nbconvert_exporter": "python",
   "pygments_lexer": "ipython3",
   "version": "3.8.5"
  }
 },
 "nbformat": 4,
 "nbformat_minor": 4
}
