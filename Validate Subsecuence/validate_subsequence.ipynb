{
 "cells": [
  {
   "cell_type": "code",
   "execution_count": 1,
   "metadata": {},
   "outputs": [],
   "source": [
    "#A function that determines whether the seconda array is a \n",
    "# subsequence of the first\n",
    "\n",
    "def isValidSubsequence(array, sequence):\n",
    "    arrInd = 0\n",
    "    seqInd = 0\n",
    "    while arrInd < len(array) and seqInd < len(sequence):\n",
    "        if array[arrInd] == sequence[seqInd]:\n",
    "            seqInd += 1\n",
    "        arrInd += 1\n",
    "\n",
    "    return seqInd == len(sequence)\n",
    "\n"
   ]
  },
  {
   "cell_type": "code",
   "execution_count": null,
   "metadata": {},
   "outputs": [],
   "source": []
  }
 ],
 "metadata": {
  "kernelspec": {
   "display_name": "Python 3",
   "language": "python",
   "name": "python3"
  },
  "language_info": {
   "codemirror_mode": {
    "name": "ipython",
    "version": 3
   },
   "file_extension": ".py",
   "mimetype": "text/x-python",
   "name": "python",
   "nbconvert_exporter": "python",
   "pygments_lexer": "ipython3",
   "version": "3.8.5"
  }
 },
 "nbformat": 4,
 "nbformat_minor": 4
}
