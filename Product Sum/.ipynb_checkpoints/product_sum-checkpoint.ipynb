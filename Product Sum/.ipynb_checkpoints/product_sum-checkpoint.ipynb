{
 "cells": [
  {
   "cell_type": "code",
   "execution_count": null,
   "metadata": {},
   "outputs": [],
   "source": [
    "#This function takes in a \"special\" array and returns its product sum\n",
    "#The product sum of a \"special\" array is the sum of its elements\n",
    "#where \"special\" arrays inside it are summed themselves and then multiplied\n",
    "#by their level of depth\n",
    "\n",
    "def productSum(array, globalMultiplier = 1):\n",
    "    sumArray = 0\n",
    "    for number in array:\n",
    "        if type(number) is list:\n",
    "            sumArray += productSum(number, globalMultiplier + 1)\n",
    "        else:\n",
    "            sumArray += number\n",
    "    return sumArray * globalMultiplier"
   ]
  }
 ],
 "metadata": {
  "kernelspec": {
   "display_name": "Python 3",
   "language": "python",
   "name": "python3"
  },
  "language_info": {
   "codemirror_mode": {
    "name": "ipython",
    "version": 3
   },
   "file_extension": ".py",
   "mimetype": "text/x-python",
   "name": "python",
   "nbconvert_exporter": "python",
   "pygments_lexer": "ipython3",
   "version": "3.8.5"
  }
 },
 "nbformat": 4,
 "nbformat_minor": 4
}
